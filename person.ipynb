{
 "cells": [
  {
   "cell_type": "code",
   "execution_count": null,
   "metadata": {},
   "outputs": [],
   "source": [
    "import cv2\n",
    "# 读取输入图像\n",
    "img = cv2.imread('test.png')\n",
    "\n",
    "# 检测人脸\n",
    "faces = face_cascade.detectMultiScale(image = img, scaleFactor = 1.1, minNeighbors = 5)\n",
    "\n",
    "# 在人脸周围绘制边界框\n",
    "for (x, y, w, h) in faces:\n",
    "cv2.rectangle(img, (x, y), (x+w, y+h), (255, 0, 0), 2)\n",
    "\n",
    "# 显示图像中检测到的人脸数量\n",
    "print(len(faces),\"faces detected!\")\n",
    "\n",
    "# 绘制检测到人脸的图像\n",
    "finalimg = cv2.cvtColor(img, cv2.COLOR_RGB2BGR)\n",
    "plt.figure(figsize=(12,12))\n",
    "plt.imshow(finalimg) \n",
    "plt.axis(\"off\")\n",
    "plt.show()\n",
    "-----------------------------------\n",
    "©著作权归作者所有：来自51CTO博客作者海拥haiyong的原创作品，请联系作者获取转载授权，否则将追究法律责任\n",
    "只需 15 行代码即可进行人脸检测！(使用Python 和 OpenCV)\n",
    "https://blog.51cto.com/haiyongblog/4235661"
   ]
  }
 ],
 "metadata": {
  "language_info": {
   "name": "python"
  },
  "orig_nbformat": 4
 },
 "nbformat": 4,
 "nbformat_minor": 2
}
